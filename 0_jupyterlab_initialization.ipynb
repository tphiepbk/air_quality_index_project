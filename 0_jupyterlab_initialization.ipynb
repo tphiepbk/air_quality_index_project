{
 "cells": [
  {
   "cell_type": "code",
   "execution_count": null,
   "id": "8a95e7f6-1d5f-4bc3-b98e-a2b1ca3efdc1",
   "metadata": {
    "editable": true,
    "slideshow": {
     "slide_type": ""
    },
    "tags": []
   },
   "outputs": [],
   "source": [
    "%%bash\n",
    "apt-get update --fix-missing\n",
    "apt-get upgrade -y\n",
    "apt-get install graphviz -y\n",
    "pip install --upgrade pip \\\n",
    "                        tensorflow \\\n",
    "                        keras \\\n",
    "                        jupyterlab-vim jupyterlab-indent-guides \\\n",
    "                        maap-user-workspace-management-jupyter-extension \\\n",
    "                        pydot \\\n",
    "                        statsmodels \\\n",
    "                        openpyxl"
   ]
  }
 ],
 "metadata": {
  "kernelspec": {
   "display_name": "Python 3 (ipykernel)",
   "language": "python",
   "name": "python3"
  },
  "language_info": {
   "codemirror_mode": {
    "name": "ipython",
    "version": 3
   },
   "file_extension": ".py",
   "mimetype": "text/x-python",
   "name": "python",
   "nbconvert_exporter": "python",
   "pygments_lexer": "ipython3",
   "version": "3.11.0rc1"
  }
 },
 "nbformat": 4,
 "nbformat_minor": 5
}
