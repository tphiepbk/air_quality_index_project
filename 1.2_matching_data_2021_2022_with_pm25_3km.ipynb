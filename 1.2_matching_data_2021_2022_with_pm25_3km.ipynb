{
 "cells": [
  {
   "cell_type": "markdown",
   "metadata": {
    "editable": true,
    "id": "Og_hH0IXLLvf",
    "tags": []
   },
   "source": [
    "# SETUP"
   ]
  },
  {
   "cell_type": "markdown",
   "metadata": {
    "id": "teCN6WLfxWPP"
   },
   "source": [
    "## Check environment"
   ]
  },
  {
   "cell_type": "code",
   "execution_count": null,
   "metadata": {
    "id": "wC3MZumn8cfi"
   },
   "outputs": [],
   "source": [
    "USE_GPU = True"
   ]
  },
  {
   "cell_type": "code",
   "execution_count": null,
   "metadata": {
    "colab": {
     "base_uri": "https://localhost:8080/"
    },
    "id": "ET2bixFEwYqT",
    "outputId": "f11da0e7-634a-4fa1-dc04-af2b7a97fd1e"
   },
   "outputs": [],
   "source": [
    "try:\n",
    "    import google.colab\n",
    "    COLAB = True\n",
    "except:\n",
    "    COLAB = False\n",
    "print(f\"Using Google Colab: {COLAB}\")"
   ]
  },
  {
   "cell_type": "markdown",
   "metadata": {
    "id": "9ndizOjuyOSj"
   },
   "source": [
    "## Libraries"
   ]
  },
  {
   "cell_type": "code",
   "execution_count": null,
   "metadata": {
    "colab": {
     "base_uri": "https://localhost:8080/"
    },
    "editable": true,
    "id": "y8WVhe0QM7sK",
    "outputId": "690dc0a0-6599-4a32-aab2-0a67d298c4f6",
    "tags": []
   },
   "outputs": [],
   "source": [
    "# System\n",
    "import os\n",
    "import glob\n",
    "import shutil\n",
    "import copy\n",
    "import re\n",
    "from datetime import datetime\n",
    "import logging\n",
    "import sys\n",
    "\n",
    "# Data\n",
    "import numpy as np\n",
    "import pandas as pd\n",
    "\n",
    "# Visualization\n",
    "import seaborn as sns\n",
    "import matplotlib.pyplot as plt\n",
    "from tqdm.notebook import tqdm\n",
    "\n",
    "# Data processing\n",
    "from sklearn.decomposition import PCA\n",
    "from sklearn.preprocessing import MinMaxScaler\n",
    "from sklearn.model_selection import train_test_split, TimeSeriesSplit, cross_val_score\n",
    "from sklearn.experimental import enable_iterative_imputer\n",
    "from sklearn.impute import IterativeImputer\n",
    "\n",
    "# Model\n",
    "import tensorflow as tf\n",
    "from sklearn.linear_model import LinearRegression\n",
    "from sklearn.metrics import mean_absolute_error\n",
    "from keras import Input, Model, Sequential\n",
    "from keras.layers import Dense, LSTM, RepeatVector, TimeDistributed, Dropout, GRU, Conv1D, MaxPooling1D, Flatten\n",
    "from keras.utils import plot_model\n",
    "from keras.saving import load_model\n",
    "from keras.callbacks import LearningRateScheduler, ModelCheckpoint\n",
    "from keras.optimizers import Adam\n",
    "from keras.losses import MeanAbsoluteError\n",
    "from keras.losses import MeanAbsoluteError, MeanSquaredError\n",
    "import keras.backend as K\n",
    "\n",
    "# Append the custom libraries to system path\n",
    "if COLAB:\n",
    "    sys.path.append(\"/content/air_quality_index_project\")\n",
    "\n",
    "# Configure device\n",
    "if not USE_GPU:\n",
    "    print(\"Using CPU to train\")\n",
    "    os.environ['CUDA_VISIBLE_DEVICES'] = '-1'\n",
    "else:\n",
    "    print(\"Using GPU to train\")\n",
    "\n",
    "# Custom libraries written by myself\n",
    "from src.plot import plot_1_data, plot_2_data, plot_prediction\n",
    "from src.reduction_model.lstm_s2s import LSTMSeq2SeqReduction\n",
    "from src.reduction_model.gru_s2s import GRUSeq2SeqReduction\n",
    "from src.reduction_model.cnnlstm_s2s import CNNLSTMSeq2SeqReduction\n",
    "from src.prediction_model.lstm import LSTMPrediction\n",
    "from src.loop_model import generate_loopresults, choose_the_best\n",
    "from src.reduce_data_utils import prepareReducedData, augmentReducedData\n",
    "from src.data_utils import mice\n",
    "\n",
    "# Configuration reader\n",
    "from src.config_reader import ConfigurationReader\n",
    "\n",
    "# Checking Tensorflow\n",
    "print(tf.__version__)\n",
    "print(tf.config.list_physical_devices('GPU'))\n",
    "print(tf.config.list_physical_devices('CPU'))"
   ]
  },
  {
   "cell_type": "markdown",
   "metadata": {
    "id": "pYgsQjDursC2"
   },
   "source": [
    "## Configuration"
   ]
  },
  {
   "cell_type": "code",
   "execution_count": null,
   "metadata": {
    "colab": {
     "base_uri": "https://localhost:8080/"
    },
    "editable": true,
    "id": "sWzwUFlyroXm",
    "outputId": "35cef819-801c-4f81-8834-145833765740",
    "tags": []
   },
   "outputs": [],
   "source": [
    "if COLAB:\n",
    "    confReader = ConfigurationReader(\"/content/air_quality_index_project/model_params_colab.json\")\n",
    "else:\n",
    "    confReader = ConfigurationReader(\"/le_thanh_van_118/workspace/hiep_workspace/air_quality_index_project/model_params.json\")\n",
    "print(confReader)\n",
    "\n",
    "conf = confReader.data"
   ]
  },
  {
   "cell_type": "markdown",
   "metadata": {
    "id": "ftue4i_fNUK0"
   },
   "source": [
    "# AOD DATA"
   ]
  },
  {
   "cell_type": "markdown",
   "metadata": {
    "id": "EF5Q59N5tPjf"
   },
   "source": [
    "## Load 2022 dataset"
   ]
  },
  {
   "cell_type": "code",
   "execution_count": null,
   "metadata": {
    "colab": {
     "base_uri": "https://localhost:8080/",
     "height": 1000
    },
    "id": "QdqFQMBnC7ey",
    "outputId": "e05fe3f4-b64f-44a7-de44-db3421697141"
   },
   "outputs": [],
   "source": [
    "df_aod_raw_2022 = pd.read_excel(conf[\"dataset\"][\"aod2022\"][\"file_dir\"])\n",
    "\n",
    "print(df_aod_raw_2022.columns)\n",
    "df_aod_raw_2022"
   ]
  },
  {
   "cell_type": "code",
   "execution_count": null,
   "metadata": {
    "colab": {
     "base_uri": "https://localhost:8080/",
     "height": 649
    },
    "id": "yvyqg9MNvTzF",
    "outputId": "af8b51ae-4002-4f10-c2e1-2dd035ab2668"
   },
   "outputs": [],
   "source": [
    "# Convert \"time\" columns to Pandas datetime\n",
    "df_aod_raw_2022 = df_aod_raw_2022.assign(time=pd.to_datetime(df_aod_raw_2022[\"time\"]))\n",
    "\n",
    "# Set \"time\" column as index\n",
    "#df_aod_raw_2022.set_index(\"time\", inplace=True)\n",
    "\n",
    "# Lower case all column names\n",
    "df_aod_raw_2022 = df_aod_raw_2022.rename(columns={name: name.lower() for name in df_aod_raw_2022.columns})\n",
    "\n",
    "# Rename oid to station\n",
    "df_aod_raw_2022 = df_aod_raw_2022.rename(columns={\"oid\": \"station\"})\n",
    "\n",
    "# Drop unnecessary columns\n",
    "df_aod_raw_2022.drop(columns=[\"name\", \"id\"], axis=1, inplace=True)\n",
    "\n",
    "# Print\n",
    "df_aod_raw_2022"
   ]
  },
  {
   "cell_type": "code",
   "execution_count": null,
   "metadata": {},
   "outputs": [],
   "source": [
    "df_aod_raw_2022[\"station\"].unique()"
   ]
  },
  {
   "cell_type": "markdown",
   "metadata": {
    "id": "nKTXcINm-kz3"
   },
   "source": [
    "## Load 2021 dataset"
   ]
  },
  {
   "cell_type": "code",
   "execution_count": null,
   "metadata": {
    "colab": {
     "base_uri": "https://localhost:8080/",
     "height": 530
    },
    "id": "QpNV5kr1-6az",
    "outputId": "fef5d016-dff5-4edc-9617-376942c326e0"
   },
   "outputs": [],
   "source": [
    "df_aod_raw_2021 = pd.read_csv(conf[\"dataset\"][\"aod2021\"][\"file_dir\"])\n",
    "\n",
    "print(df_aod_raw_2021.columns)\n",
    "df_aod_raw_2021"
   ]
  },
  {
   "cell_type": "code",
   "execution_count": null,
   "metadata": {
    "colab": {
     "base_uri": "https://localhost:8080/",
     "height": 649
    },
    "id": "niDqbuiTtPji",
    "outputId": "277df9f3-5fdb-41be-c7a5-71e0dbb5a1a5"
   },
   "outputs": [],
   "source": [
    "# Convert \"time\" columns to Pandas datetime\n",
    "df_aod_raw_2021['time'] = pd.to_datetime(df_aod_raw_2021['time'])\n",
    "\n",
    "# Set \"time\" column as index\n",
    "#df_aod_raw_2021.set_index(\"time\", inplace=True)\n",
    "\n",
    "# Lower case all column names\n",
    "df_aod_raw_2021.rename(columns={name: name.lower() for name in df_aod_raw_2021.columns}, inplace=True)\n",
    "\n",
    "# Rename \"id\" to \"station\"\n",
    "df_aod_raw_2021.rename(columns={'id':'station'}, inplace=True)\n",
    "\n",
    "# Only get data in 2021\n",
    "time_mask = ((df_aod_raw_2021[\"time\"] >= conf[\"dataset\"][\"aod2021\"][\"target_start_date\"]) & (df_aod_raw_2021[\"time\"] <= conf[\"dataset\"][\"aod2021\"][\"target_end_date\"]))\n",
    "df_aod_raw_2021 = df_aod_raw_2021.loc[time_mask]\n",
    "\n",
    "# Print\n",
    "df_aod_raw_2021"
   ]
  },
  {
   "cell_type": "code",
   "execution_count": null,
   "metadata": {},
   "outputs": [],
   "source": [
    "df_aod_raw_2021[\"station\"].unique()"
   ]
  },
  {
   "cell_type": "markdown",
   "metadata": {
    "id": "ZJr2warl_snI"
   },
   "source": [
    "## Merge dataset"
   ]
  },
  {
   "cell_type": "code",
   "execution_count": null,
   "metadata": {
    "colab": {
     "base_uri": "https://localhost:8080/",
     "height": 649
    },
    "id": "lpkgI57h_r9r",
    "outputId": "8fc57e57-6511-47b6-b1a4-f9baf5af5529"
   },
   "outputs": [],
   "source": [
    "# Remove \"pres2m\" column in 2022 because it doesn't have value in 2021\n",
    "df_aod_raw_2022.drop([\"pres2m\"], axis=1, inplace=True)\n",
    "\n",
    "# Start merging\n",
    "df_aod_raw = pd.concat([df_aod_raw_2021, df_aod_raw_2022], axis=0)\n",
    "\n",
    "# Sort data by \"station\" then \"time\"\n",
    "df_aod_raw.sort_values(by=[\"station\", \"time\"], ascending=[True, True], inplace=True)\n",
    "\n",
    "# Set index\n",
    "df_aod_raw.set_index(\"time\", inplace=True)\n",
    "\n",
    "# Print\n",
    "df_aod_raw"
   ]
  },
  {
   "cell_type": "code",
   "execution_count": null,
   "metadata": {
    "id": "JUCZZhaGAVKw"
   },
   "outputs": [],
   "source": [
    "df_aod_raw.to_csv('df_aod_raw.csv', index=True)"
   ]
  },
  {
   "cell_type": "markdown",
   "metadata": {
    "id": "TANavZS8vTzE"
   },
   "source": [
    "## Statistics"
   ]
  },
  {
   "cell_type": "code",
   "execution_count": null,
   "metadata": {
    "id": "F1iLWhL7b1Fs"
   },
   "outputs": [],
   "source": [
    "df_aod_stat = df_aod_raw.describe()\n",
    "df_aod_stat.to_csv(f'{conf[\"workspace\"][\"data_statistic_dir\"]}/df_aod_stat.csv')"
   ]
  },
  {
   "cell_type": "code",
   "execution_count": null,
   "metadata": {
    "colab": {
     "base_uri": "https://localhost:8080/",
     "height": 743
    },
    "id": "0YOtODigcjMi",
    "outputId": "63c53eb8-d511-408a-c317-3e4405e86f27",
    "scrolled": true
   },
   "outputs": [],
   "source": [
    "df_aod_raw.isnull().sum()"
   ]
  },
  {
   "cell_type": "markdown",
   "metadata": {
    "id": "ohQJQ9-qtETZ"
   },
   "source": [
    "## Preprocessing"
   ]
  },
  {
   "cell_type": "markdown",
   "metadata": {
    "id": "ODCr_W2VvTzF"
   },
   "source": [
    "### Define label, static features and dynamic features"
   ]
  },
  {
   "cell_type": "code",
   "execution_count": null,
   "metadata": {
    "colab": {
     "base_uri": "https://localhost:8080/"
    },
    "id": "AX3qfO5DvTzG",
    "outputId": "809e3972-3c15-4182-e1e3-eb54ea516033"
   },
   "outputs": [],
   "source": [
    "aod_label = [\"pm25\"]\n",
    "aod_index = [\"time\"]\n",
    "aod_stat_feats = ['lat', 'lon', 'station', 'pop', 'road_den_1km', 'prim_road_len_1km', 'near_dist', \\\n",
    "                  'bareland', 'builtup', 'cropland', 'grassland', 'treecover', 'water', 'ndvi']\n",
    "aod_dyn_feats = list(set(df_aod_raw.columns) - set(aod_stat_feats) - set(aod_label) - set(aod_index))\n",
    "aod_all_stations = sorted(df_aod_raw[\"station\"].unique())\n",
    "\n",
    "print(f'aod_label = {aod_label}\\naod_stat_feats = {aod_stat_feats}\\naod_dyn_feats = {aod_dyn_feats}\\naod_all_stations = {aod_all_stations}')"
   ]
  },
  {
   "cell_type": "markdown",
   "metadata": {
    "id": "Mzg3wJTBvTzG"
   },
   "source": [
    "### Fill \"aod\" column"
   ]
  },
  {
   "cell_type": "code",
   "execution_count": null,
   "metadata": {
    "colab": {
     "base_uri": "https://localhost:8080/",
     "height": 649
    },
    "id": "xGsUnWbQvTzG",
    "outputId": "c0b6992c-d9be-44f7-9d48-de9ad6ef7bdc"
   },
   "outputs": [],
   "source": [
    "all_stations_df = []\n",
    "\n",
    "for station in aod_all_stations:\n",
    "    print(f\"\\nHandling for station {station}\\n\")\n",
    "    # Get dataframe of current station\n",
    "    df_aod_current_station = df_aod_raw[df_aod_raw[\"station\"] == station]\n",
    "    \n",
    "    # Fill \"aod\" column\n",
    "    #df_aod_current_station.loc[:, \"aod\"] = df_aod_current_station.loc[:, \"aod\"].fillna(df_aod_current_station.loc[:, \"aod\"].mean())\n",
    "    df_aod_current_station_imputed = copy.deepcopy(df_aod_current_station)\n",
    "    df_aod_current_station_imputed.loc[:, \"aod\"] = mice(df_aod_current_station_imputed.drop(columns=[\"station\", \"pm25\"]))[\"aod\"]\n",
    "    plot_2_data(data1=df_aod_current_station_imputed[\"aod\"],\n",
    "               datalabel1=\"aod imputed\",\n",
    "               data2=df_aod_current_station[\"aod\"],\n",
    "               datalabel2=\"aod ground truth\",\n",
    "               ylabel=\"aod\",\n",
    "               xlabel=\"index\")\n",
    "\n",
    "    # Store file for debugging after filling missing values\n",
    "    df_aod_current_station_imputed.to_csv(f\"{conf['workspace']['data_by_station_dir']}/df_aod_{station}.csv\", index=True)\n",
    "\n",
    "    # Reappend the location to dataset\n",
    "    all_stations_df.append(df_aod_current_station_imputed)\n",
    "\n",
    "# Merge all stations\n",
    "df_aod = pd.concat(all_stations_df)\n",
    "df_aod"
   ]
  },
  {
   "cell_type": "code",
   "execution_count": null,
   "metadata": {},
   "outputs": [],
   "source": [
    "plot_1_data(df_aod[\"aod\"])"
   ]
  },
  {
   "cell_type": "code",
   "execution_count": null,
   "metadata": {
    "id": "U1hvI7aCE-Sz"
   },
   "outputs": [],
   "source": [
    "df_aod.to_csv('df_aod.csv', index=True)"
   ]
  },
  {
   "cell_type": "markdown",
   "metadata": {
    "id": "8MjndQYvs1iT"
   },
   "source": [
    "### Extract columns: time, stations, pm25_3k"
   ]
  },
  {
   "cell_type": "code",
   "execution_count": null,
   "metadata": {
    "colab": {
     "base_uri": "https://localhost:8080/"
    },
    "id": "MvvIxK-QtFiC",
    "outputId": "626aa0f1-cb47-4d90-ffb4-568343e435a6"
   },
   "outputs": [],
   "source": [
    "# Get the time indices\n",
    "aod_time_indices = df_aod.index\n",
    "aod_time_indices"
   ]
  },
  {
   "cell_type": "code",
   "execution_count": null,
   "metadata": {
    "colab": {
     "base_uri": "https://localhost:8080/",
     "height": 490
    },
    "id": "ln0ZXqOC8cfw",
    "outputId": "2ab7019c-b207-4e74-8271-c29bee8c9979"
   },
   "outputs": [],
   "source": [
    "# Get the station column\n",
    "aod_station_column = df_aod.loc[:, \"station\"]\n",
    "aod_station_column"
   ]
  },
  {
   "cell_type": "code",
   "execution_count": null,
   "metadata": {},
   "outputs": [],
   "source": [
    "# Get the pm25_3km column\n",
    "aod_pm25_3km_column = df_aod.loc[:, \"pm25_3km\"]\n",
    "aod_pm25_3km_column"
   ]
  },
  {
   "cell_type": "markdown",
   "metadata": {
    "id": "xl1hmRhLtETb"
   },
   "source": [
    "### Split into features and labels\n",
    "* Label: pm25\n",
    "* Features: other columns\n",
    "    * Dynamic features\n",
    "    * Static features"
   ]
  },
  {
   "cell_type": "code",
   "execution_count": null,
   "metadata": {
    "id": "krCbZOfgtETc"
   },
   "outputs": [],
   "source": [
    "# Features with pm25_3km\n",
    "aod_feats = aod_stat_feats + aod_dyn_feats\n",
    "# Predict without \"station\" as a feature\n",
    "aod_feats.remove(\"station\")\n",
    "X_aod = df_aod.loc[:, aod_feats]\n",
    "\n",
    "# Label\n",
    "y_aod = df_aod.loc[:, aod_label]"
   ]
  },
  {
   "cell_type": "code",
   "execution_count": null,
   "metadata": {
    "colab": {
     "base_uri": "https://localhost:8080/",
     "height": 649
    },
    "id": "vLkhlxnwtETc",
    "outputId": "934360a5-db55-4774-bd3a-405cd8ba78d4"
   },
   "outputs": [],
   "source": [
    "X_aod"
   ]
  },
  {
   "cell_type": "code",
   "execution_count": null,
   "metadata": {
    "colab": {
     "base_uri": "https://localhost:8080/",
     "height": 455
    },
    "id": "_Y9z4pEEtETc",
    "outputId": "87346ba4-ceea-4fa5-f7b0-f83078a60407"
   },
   "outputs": [],
   "source": [
    "y_aod"
   ]
  },
  {
   "cell_type": "markdown",
   "metadata": {
    "id": "rjOq-AUCtETc"
   },
   "source": [
    "### Data normalization"
   ]
  },
  {
   "cell_type": "code",
   "execution_count": null,
   "metadata": {
    "colab": {
     "base_uri": "https://localhost:8080/",
     "height": 444
    },
    "id": "m-xBvYhMtETc",
    "outputId": "88773586-2dd6-4229-c544-255178729440"
   },
   "outputs": [],
   "source": [
    "# Scaled features\n",
    "aod_features_scaler = MinMaxScaler()\n",
    "X_aod_scaled = aod_features_scaler.fit_transform(X_aod)\n",
    "X_aod_scaled = pd.DataFrame(X_aod_scaled, columns=X_aod.columns)\n",
    "X_aod_scaled"
   ]
  },
  {
   "cell_type": "code",
   "execution_count": null,
   "metadata": {
    "colab": {
     "base_uri": "https://localhost:8080/",
     "height": 424
    },
    "id": "qhZbOofetETd",
    "outputId": "6404ed68-6b68-47df-de8a-b8fd8f25d7d0"
   },
   "outputs": [],
   "source": [
    "# Scaled label\n",
    "aod_label_scaler = MinMaxScaler(feature_range=(0, 1))\n",
    "y_aod_scaled = aod_label_scaler.fit_transform(y_aod)\n",
    "y_aod_scaled = pd.DataFrame(y_aod_scaled, columns=y_aod.columns)\n",
    "y_aod_scaled"
   ]
  },
  {
   "cell_type": "markdown",
   "metadata": {
    "id": "iBggBVGFtk9M"
   },
   "source": [
    "## Dimensionality Reduction Comparation"
   ]
  },
  {
   "cell_type": "markdown",
   "metadata": {
    "id": "1PxcDjDFB6ec"
   },
   "source": [
    "To compare the effect of each method, we will do the following things:\n",
    "* Use the pm25 as the label\n",
    "* Use other columns as the input features\n",
    "* Reduce the dimension of input data using above methods\n",
    "* Pass the processed input data to a model (e.g. LSTM, ...)"
   ]
  },
  {
   "cell_type": "markdown",
   "metadata": {
    "id": "PG13tbybB0__"
   },
   "source": [
    "### Evaluation board"
   ]
  },
  {
   "cell_type": "code",
   "execution_count": null,
   "metadata": {
    "id": "9ix8noyVAx7r"
   },
   "outputs": [],
   "source": [
    "evaluation_board = {'with_pm25_3km': [], 'dim_reduction_method': [], 'dim_after_reduction': [], 'prediction':[], 'mae': [], 'mse': [], 'r2': []}"
   ]
  },
  {
   "cell_type": "markdown",
   "metadata": {
    "id": "W6_62rxSePR7"
   },
   "source": [
    "### Range of dimension"
   ]
  },
  {
   "cell_type": "code",
   "execution_count": null,
   "metadata": {
    "colab": {
     "base_uri": "https://localhost:8080/"
    },
    "id": "bNmLPWpZeN6Y",
    "outputId": "491dfb01-49c6-4b1c-e8f1-8fdf507b5107"
   },
   "outputs": [],
   "source": [
    "RANGE_OF_DIMENSION = range(conf[\"reduction\"][\"min_number_of_features\"], X_aod_scaled.shape[1])\n",
    "#RANGE_OF_DIMENSION = range(2, 5)\n",
    "for n in RANGE_OF_DIMENSION:\n",
    "  print(n, end=' ')"
   ]
  },
  {
   "cell_type": "markdown",
   "metadata": {},
   "source": [
    "### Prediction without reduction"
   ]
  },
  {
   "cell_type": "code",
   "execution_count": null,
   "metadata": {},
   "outputs": [],
   "source": [
    "# Prediction\n",
    "lstmpred = LSTMPrediction(X_aod_scaled, y_aod_scaled,\n",
    "                            aod_label_scaler,\n",
    "                            val_percentage=0.2, test_percentage=0.2,\n",
    "                            n_past=conf[\"prediction\"][\"n_past\"], n_future=conf[\"prediction\"][\"n_future\"],\n",
    "                            epochs=conf[\"prediction\"][\"epochs\"], batch_size=conf[\"prediction\"][\"batch_size\"],\n",
    "                            model_name=f\"aod_{LSTMPrediction.class_name}_no_dim_reduction\",\n",
    "                            verbose=0)\n",
    "lstmpred.get_model_info()\n",
    "all_days_inv_y_pred, all_days_inv_y_test, all_days_mae, avg_mae, all_days_mse, avg_mse, all_days_r2, avg_r2 = lstmpred.execute()\n",
    "\n",
    "\n",
    "# Visualize the prediction\n",
    "plot_prediction(all_days_inv_y_pred, all_days_inv_y_test, conf[\"prediction\"][\"n_future\"])\n",
    "\n",
    "# Print out the evaluation board\n",
    "evaluation_board['dim_reduction_method'] += [\"None\"]\n",
    "evaluation_board['dim_after_reduction'] += [\"N/A\"]\n",
    "evaluation_board['prediction'] += [\"LSTM\"]\n",
    "evaluation_board['mae'] += [avg_mae]\n",
    "evaluation_board['mse'] += [avg_mse]\n",
    "evaluation_board['r2'] += [avg_r2]\n",
    "evaluation_board['with_pm25_3km'] += [\"Yes\"]\n",
    "pd.DataFrame(evaluation_board)"
   ]
  },
  {
   "cell_type": "markdown",
   "metadata": {
    "id": "GeV0ac2r0DCK"
   },
   "source": [
    "### Prediction + LSTM-Seq2Seq"
   ]
  },
  {
   "cell_type": "markdown",
   "metadata": {
    "id": "a-jxDAlwXnmc"
   },
   "source": [
    "#### Doing the loop"
   ]
  },
  {
   "cell_type": "code",
   "execution_count": null,
   "metadata": {},
   "outputs": [],
   "source": [
    "loopresults = generate_loopresults(RANGE_OF_DIMENSION, LSTMSeq2SeqReduction, LSTMPrediction, X_aod_scaled, y_aod_scaled, aod_label_scaler)\n",
    "best_mae, best_mse, best_r2, best_num_of_components, best_encoded_data, best_evaluation_data, best_encoder_model_path = choose_the_best(loopresults)\n",
    "\n",
    "# Print out the evaluation board\n",
    "evaluation_board['dim_reduction_method'] += [\"LSTM-Seq2Seq\"]\n",
    "evaluation_board['dim_after_reduction'] += [best_num_of_components]\n",
    "evaluation_board['prediction'] += [\"LSTM\"]\n",
    "evaluation_board['mae'] += [best_mae]\n",
    "evaluation_board['mse'] += [best_mse]\n",
    "evaluation_board['r2'] += [best_r2]\n",
    "evaluation_board['with_pm25_3km'] += [\"Yes\"]\n",
    "pd.DataFrame(evaluation_board)"
   ]
  },
  {
   "cell_type": "markdown",
   "metadata": {
    "id": "4XwipJVG8cgD"
   },
   "source": [
    "#### Prepare reduced data"
   ]
  },
  {
   "cell_type": "code",
   "execution_count": null,
   "metadata": {
    "colab": {
     "base_uri": "https://localhost:8080/",
     "height": 649
    },
    "id": "khrvPH1_8cgD",
    "outputId": "254b9505-cfbb-4952-fb03-6fd6fb233bde",
    "scrolled": true
   },
   "outputs": [],
   "source": [
    "# Copy the best reduction model to target directory\n",
    "shutil.copy(best_encoder_model_path, conf[\"workspace\"][\"best_reduction_models_dir\"])\n",
    "\n",
    "# Prepare the reduced data\n",
    "df_lstms2s_reduced = prepareReducedData(best_encoded_data, aod_time_indices, aod_station_column)\n",
    "df_lstms2s_reduced.to_csv(os.path.join(conf[\"workspace\"][\"best_reduced_data\"], \"df_lstms2s_reduced_2021_2022.csv\"))\n",
    "df_lstms2s_reduced"
   ]
  },
  {
   "cell_type": "code",
   "execution_count": null,
   "metadata": {},
   "outputs": [],
   "source": [
    "# Prepare the reduced data with additional pm25_3km and predicted pm25 values\n",
    "df_lstms2s_reduced_augmented = augmentReducedData(df_lstms2s_reduced, y_aod_scaled, aod_pm25_3km_column, aod_label_scaler)\n",
    "df_lstms2s_reduced_augmented.to_csv(os.path.join(conf[\"workspace\"][\"best_reduced_data\"], \"df_lstms2s_reduced_2021_2022_feature_pm25_3km_with_raw_pm25_3km_and_prediced_pm25.csv\"))\n",
    "df_lstms2s_reduced_augmented"
   ]
  },
  {
   "cell_type": "markdown",
   "metadata": {
    "id": "4u85dTWWvTzR"
   },
   "source": [
    "### Prediction + GRU-Seq2Seq"
   ]
  },
  {
   "cell_type": "markdown",
   "metadata": {
    "id": "kHsu0hyvgYUI"
   },
   "source": [
    "#### Doing the loop"
   ]
  },
  {
   "cell_type": "code",
   "execution_count": null,
   "metadata": {
    "colab": {
     "base_uri": "https://localhost:8080/",
     "height": 1000
    },
    "editable": true,
    "id": "jhvoMBsD8cgI",
    "outputId": "f5adbb1a-f9db-4716-ff1d-0d14c7a0c1d0",
    "tags": []
   },
   "outputs": [],
   "source": [
    "loopresults = generate_loopresults(RANGE_OF_DIMENSION, GRUSeq2SeqReduction, LSTMPrediction, X_aod_scaled, y_aod_scaled, aod_label_scaler)\n",
    "best_mae, best_mse, best_r2, best_num_of_components, best_encoded_data, best_evaluation_data, best_encoder_model_path = choose_the_best(loopresults)\n",
    "\n",
    "# Print out the evaluation board\n",
    "evaluation_board['dim_reduction_method'] += [\"GRU-Seq2Seq\"]\n",
    "evaluation_board['dim_after_reduction'] += [best_num_of_components]\n",
    "evaluation_board['prediction'] += [\"LSTM\"]\n",
    "evaluation_board['mae'] += [best_mae]\n",
    "evaluation_board['mse'] += [best_mse]\n",
    "evaluation_board['r2'] += [best_r2]\n",
    "evaluation_board['with_pm25_3km'] += [\"Yes\"]\n",
    "pd.DataFrame(evaluation_board)"
   ]
  },
  {
   "cell_type": "markdown",
   "metadata": {
    "id": "odUdsm-I8cgI"
   },
   "source": [
    "#### Prepare reduced data"
   ]
  },
  {
   "cell_type": "code",
   "execution_count": null,
   "metadata": {
    "colab": {
     "base_uri": "https://localhost:8080/",
     "height": 649
    },
    "id": "Q7I8Cbgy8cgJ",
    "outputId": "9d5ff603-a92d-48ab-edf9-f8e8a503abec",
    "scrolled": true
   },
   "outputs": [],
   "source": [
    "# Copy the best reduction model to target directory\n",
    "shutil.copy(best_encoder_model_path, conf[\"workspace\"][\"best_reduction_models_dir\"])\n",
    "\n",
    "# Prepare the reduced data\n",
    "df_grus2s_reduced = prepareReducedData(best_encoded_data, aod_time_indices, aod_station_column)\n",
    "df_grus2s_reduced.to_csv(os.path.join(conf[\"workspace\"][\"best_reduced_data\"], \"df_grus2s_reduced_2021_2022.csv\"))\n",
    "df_grus2s_reduced"
   ]
  },
  {
   "cell_type": "code",
   "execution_count": null,
   "metadata": {},
   "outputs": [],
   "source": [
    "# Prepare the reduced data with additional pm25_3km and predicted pm25 values\n",
    "df_grus2s_reduced_augmented = augmentReducedData(df_grus2s_reduced, y_aod_scaled, aod_pm25_3km_column, aod_label_scaler)\n",
    "df_grus2s_reduced_augmented.to_csv(os.path.join(conf[\"workspace\"][\"best_reduced_data\"], \"df_grus2s_reduced_2021_2022_feature_pm35_3km_with_raw_pm25_3km_and_prediced_pm25.csv\"))\n",
    "df_grus2s_reduced_augmented"
   ]
  },
  {
   "cell_type": "markdown",
   "metadata": {
    "id": "fmjLm3SCtTs8"
   },
   "source": [
    "### Prediction + CNN-LSTM Seq2seq"
   ]
  },
  {
   "cell_type": "markdown",
   "metadata": {
    "id": "lSVKMOBo_z6Q"
   },
   "source": [
    "#### Doing the loop"
   ]
  },
  {
   "cell_type": "code",
   "execution_count": null,
   "metadata": {
    "colab": {
     "base_uri": "https://localhost:8080/",
     "height": 1000
    },
    "id": "Kh00c0om_z6R",
    "outputId": "c773c296-52f7-492f-e903-e079075c81c4"
   },
   "outputs": [],
   "source": [
    "loopresults = generate_loopresults(RANGE_OF_DIMENSION, CNNLSTMSeq2SeqReduction, LSTMPrediction, X_aod_scaled, y_aod_scaled, aod_label_scaler)\n",
    "best_mae, best_mse, best_r2, best_num_of_components, best_encoded_data, best_evaluation_data, best_encoder_model_path = choose_the_best(loopresults)\n",
    "\n",
    "# Print out the evaluation board\n",
    "evaluation_board['dim_reduction_method'] += [\"CNNLSTM-Seq2Seq\"]\n",
    "evaluation_board['dim_after_reduction'] += [best_num_of_components]\n",
    "evaluation_board['prediction'] += [\"LSTM\"]\n",
    "evaluation_board['mae'] += [best_mae]\n",
    "evaluation_board['mse'] += [best_mse]\n",
    "evaluation_board['r2'] += [best_r2]\n",
    "evaluation_board['with_pm25_3km'] += [\"Yes\"]\n",
    "pd.DataFrame(evaluation_board)"
   ]
  },
  {
   "cell_type": "markdown",
   "metadata": {
    "id": "wFeZMHEe8cgN"
   },
   "source": [
    "#### Prepare reduced data"
   ]
  },
  {
   "cell_type": "code",
   "execution_count": null,
   "metadata": {
    "colab": {
     "base_uri": "https://localhost:8080/",
     "height": 649
    },
    "id": "F6w1-rTC8cgN",
    "outputId": "04751d35-ba7b-46f8-9bf1-1e8acb971a10"
   },
   "outputs": [],
   "source": [
    "# Copy the best reduction model to target directory\n",
    "shutil.copy(best_encoder_model_path, conf[\"workspace\"][\"best_reduction_models_dir\"])\n",
    "\n",
    "# Prepare the reduced data\n",
    "df_cnnlstms2s_reduced = prepareReducedData(best_encoded_data, aod_time_indices, aod_station_column)\n",
    "df_cnnlstms2s_reduced.to_csv(os.path.join(conf[\"workspace\"][\"best_reduced_data\"], \"df_cnnlstms2s_reduced_2021_2022.csv\"))\n",
    "df_cnnlstms2s_reduced"
   ]
  },
  {
   "cell_type": "code",
   "execution_count": null,
   "metadata": {},
   "outputs": [],
   "source": [
    "# Prepare the reduced data with additional pm25_3km and predicted pm25 values\n",
    "df_cnnlstms2s_reduced_augmented = augmentReducedData(df_cnnlstms2s_reduced, y_aod_scaled, aod_pm25_3km_column, aod_label_scaler)\n",
    "df_cnnlstms2s_reduced_augmented.to_csv(os.path.join(conf[\"workspace\"][\"best_reduced_data\"], \"df_cnnlstms2s_reduced_2021_2022_feature_pm25_3km_with_raw_pm25_3km_and_prediced_pm25.csv\"))\n",
    "df_cnnlstms2s_reduced_augmented"
   ]
  }
 ],
 "metadata": {
  "colab": {
   "provenance": []
  },
  "kernelspec": {
   "display_name": "Python 3 (ipykernel)",
   "language": "python",
   "name": "python3"
  },
  "language_info": {
   "codemirror_mode": {
    "name": "ipython",
    "version": 3
   },
   "file_extension": ".py",
   "mimetype": "text/x-python",
   "name": "python",
   "nbconvert_exporter": "python",
   "pygments_lexer": "ipython3",
   "version": "3.11.0rc1"
  }
 },
 "nbformat": 4,
 "nbformat_minor": 4
}
